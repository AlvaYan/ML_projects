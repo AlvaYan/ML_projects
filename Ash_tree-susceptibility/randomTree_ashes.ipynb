{
 "cells": [
  {
   "cell_type": "markdown",
   "metadata": {},
   "source": [
    "# Load Packages and Define Functions"
   ]
  },
  {
   "cell_type": "code",
   "execution_count": 1,
   "metadata": {},
   "outputs": [],
   "source": [
    "import pandas as pd\n",
    "import numpy as np\n",
    "import matplotlib.pyplot as plt\n",
    "import seaborn as sns\n",
    "import os\n",
    "import random\n",
    "from tqdm import tqdm\n",
    "from collections import defaultdict\n",
    "from sklearn import svm\n",
    "from sklearn import metrics\n",
    "from sklearn.model_selection import KFold, cross_val_score, train_test_split\n",
    "from sklearn.feature_selection import RFE, SelectFromModel\n",
    "from sklearn.ensemble import RandomForestClassifier\n",
    "from sklearn.tree import plot_tree, export_graphviz\n",
    "from statsmodels.stats.outliers_influence import variance_inflation_factor\n",
    "from lightgbm import LGBMClassifier\n",
    "random.seed(1)"
   ]
  },
  {
   "cell_type": "code",
   "execution_count": 2,
   "metadata": {},
   "outputs": [],
   "source": [
    "NORMALIZE='std'# min, std, False\n",
    "UNCORR_SELECTION=False # whether to select feature before rf model using correlation between features\n",
    "CORR_SELECTION=False # whether to select feature before rf model using correlation between features and response\n",
    "VIF_SELECTION=False # whether to select feature before rf model using VIF\n",
    "N_EST_CANDI=[20,50,100] #possible number of tree estimators\n",
    "DEPTH_CANDI=[10,20,30] #possible depth \n",
    "N_FEATURE=30 #number of selected features\n",
    "N_RFE=100 #number of times to run rfe"
   ]
  },
  {
   "cell_type": "code",
   "execution_count": 3,
   "metadata": {},
   "outputs": [],
   "source": [
    "def check_dup_missing(dat):\n",
    "    '''check duplication and missing data'''\n",
    "    print(('Number of duplications:', sum(dat.duplicated())))\n",
    "    missing = dat.isnull().sum()\n",
    "    print(('Number of missing entries:', sum(missing)))"
   ]
  },
  {
   "cell_type": "code",
   "execution_count": 4,
   "metadata": {},
   "outputs": [],
   "source": [
    "def norm(dat, normalize):\n",
    "    '''normalize data and discard useless data'''\n",
    "    if normalize=='min':\n",
    "        co_names = list(dat.columns)\n",
    "        co_names.remove('family')\n",
    "        co_names.remove('year')\n",
    "        co_names.remove('infest_level')\n",
    "        dat_norm = dat\n",
    "        dat_norm[co_names] = (dat[co_names]-dat[co_names].min())/(dat[co_names].max()-dat[co_names].min())\n",
    "        (dat_norm.head())\n",
    "    elif normalize=='std':\n",
    "        co_names = list(dat.columns)\n",
    "        co_names.remove('family')\n",
    "        co_names.remove('year')\n",
    "        co_names.remove('infest_level')\n",
    "        dat_norm = dat\n",
    "        dat_norm[co_names] = (dat[co_names]-dat[co_names].mean())/(dat[co_names].std())\n",
    "        (dat_norm.head())\n",
    "        dat_norm = dat\n",
    "    else:\n",
    "        dat_norm = dat\n",
    "    dat_norm = dat_norm.iloc[0:184,:]\n",
    "    return dat_norm"
   ]
  },
  {
   "cell_type": "code",
   "execution_count": 5,
   "metadata": {},
   "outputs": [],
   "source": [
    "def split(dat_norm):\n",
    "    '''split train testing data set'''\n",
    "    train, test = train_test_split(dat_norm, test_size=0.2)\n",
    "    y_train = np.array(train.iloc[:,0])\n",
    "    X_train = np.array(train.iloc[:,1:])\n",
    "    y_test = np.array(test.iloc[:,0])\n",
    "    X_test = np.array(test.iloc[:,1:])\n",
    "    fea = list(dat_norm.columns)\n",
    "    return X_train, y_train, X_test, y_test, fea"
   ]
  },
  {
   "cell_type": "code",
   "execution_count": 6,
   "metadata": {},
   "outputs": [],
   "source": [
    "def uncor_selector(X, y):\n",
    "    '''select feature that is not highly correlated with other features'''\n",
    "    feature_name = fea[1:]\n",
    "    fea_list = set([i for i in range(len(feature_name))])\n",
    "    for i in range(len(feature_name)):\n",
    "        if i in fea_list:\n",
    "            for j in fea_list.copy():\n",
    "                if j<i and np.abs(np.corrcoef(X[:,i], X[:,j])[0,1])>0.8:\n",
    "                    cor_i = np.abs(np.corrcoef(X[:,i], y=='Uninfested')[0,1])\n",
    "                    cor_j = np.abs(np.corrcoef(X[:,j], y=='Uninfested')[0,1])\n",
    "                    if cor_i>cor_j:\n",
    "                        try:\n",
    "                            fea_list.remove(j)\n",
    "                        except:continue\n",
    "                    else:\n",
    "                        try:\n",
    "                            fea_list.remove(i)\n",
    "                        except:continue\n",
    "    return list(fea_list)\n",
    "\n",
    "def cor_selector(X, y, f, num_feats):\n",
    "    '''select features that is more correlated with response variable'''\n",
    "    cor_list = []\n",
    "    for i in range(len(f)):\n",
    "        cor = np.corrcoef(X[:,f[i]], y=='Uninfested')[0,1]\n",
    "        cor_list.append(np.abs(cor))\n",
    "    # replace NaN with 0\n",
    "    cor_list = [0 if np.isnan(i) else i for i in cor_list]\n",
    "    cor_feature = np.argsort(cor_list)[0:min([num_feats,147])]\n",
    "    return [f[i] for i in cor_feature]\n",
    "\n",
    "def vif_selector(X, fea_cur):\n",
    "    '''select feature that has smaller VIF'''\n",
    "    thresh = 5\n",
    "    vif = [variance_inflation_factor(X[:, fea_cur], i) for i in range(len(fea_cur))]\n",
    "    for i in range(1, len(fea_cur)):\n",
    "        a = np.argmax(vif)\n",
    "        if vif[a]<thresh:\n",
    "            break\n",
    "        fea_cur.pop(a)\n",
    "        vif = [variance_inflation_factor(X[:, fea_cur], i) for i in range(len(fea_cur))]\n",
    "    return fea_cur\n",
    "\n",
    "def print_cor_features(X_train, f):\n",
    "    if UNCORR_SELECTION or CORR_SELECTION or VIF_SELECTION:\n",
    "        print('Highly correlated features (corr>0.95) before selection:')\n",
    "        X = np.array(X_train, dtype=float)\n",
    "        for i in range(X.shape[1]):\n",
    "            for j in range(i+1, X.shape[1]):\n",
    "                cor = np.corrcoef(X[:,i], X[:,j])[0,1]\n",
    "                if cor>0.95:print((i,j))\n",
    "        print('Highly correlated features (corr>0.95) after selection:')\n",
    "        X = np.array(X_train[:,f], dtype=float)\n",
    "        for i in range(X.shape[1]):\n",
    "            for j in range(i+1,X.shape[1]):\n",
    "                cor = np.corrcoef(X[:,i], X[:,j])[0, 1]\n",
    "                if cor>0.95:print((i,j))\n",
    "                    \n",
    "def select_uncorr_fea(X_train, fea):\n",
    "    '''Selecting feature based on corr/vif'''\n",
    "    X = np.array(X_train, dtype=float)\n",
    "    f = [i for i in range(len(fea)-1)]\n",
    "    if UNCORR_SELECTION:\n",
    "        f = uncor_selector(X, y_train)\n",
    "        f.sort()\n",
    "    if CORR_SELECTION:\n",
    "        f = cor_selector(X, y_train, f, 159)\n",
    "        f.sort()\n",
    "    if VIF_SELECTION:\n",
    "        f = vif_selector(X, f)\n",
    "        f.sort()\n",
    "    if UNCORR_SELECTION or CORR_SELECTION or VIF_SELECTION:\n",
    "        print('Selected Features:', (f))\n",
    "        print_cor_features(X_train, f)\n",
    "    return f"
   ]
  },
  {
   "cell_type": "code",
   "execution_count": 7,
   "metadata": {},
   "outputs": [],
   "source": [
    "def rf_cv(X_train, y_train, folds=147):\n",
    "    '''Tune parameters usinng cross validation'''\n",
    "    best_acc = float('-inf')\n",
    "    for n_est in N_EST_CANDI:\n",
    "        for depth in DEPTH_CANDI:\n",
    "            rf = RandomForestClassifier(n_estimators=n_est, max_depth=depth, \n",
    "                                        criterion='gini', random_state=10)\n",
    "            cv = KFold(n_splits=folds, shuffle=False)\n",
    "            res = np.mean(cross_val_score(rf, X_train, y_train, cv=cv, scoring = 'accuracy'))\n",
    "            if res>best_acc:\n",
    "                best_n_est = n_est\n",
    "                best_depth = depth\n",
    "                best_acc = res\n",
    "    print('Best number of trees:', best_n_est, 'Best maximum depth:', best_depth)\n",
    "    print(('Validation accuracy:', best_acc))\n",
    "    return best_n_est, best_depth"
   ]
  },
  {
   "cell_type": "code",
   "execution_count": 8,
   "metadata": {},
   "outputs": [],
   "source": [
    "def rf(X_train, y_train, X_test, y_test, best_n_est=20, best_depth=20):\n",
    "    '''fit random forest model and return predictions'''\n",
    "    rf = RandomForestClassifier(n_estimators=best_n_est, max_depth=best_depth,\n",
    "                                criterion='gini', random_state=11)\n",
    "    rf.fit(X_train,y_train)\n",
    "    pred = rf.predict(X_test)\n",
    "    prob = rf.predict_proba(X_test)\n",
    "    return prob, pred"
   ]
  },
  {
   "cell_type": "code",
   "execution_count": 9,
   "metadata": {},
   "outputs": [],
   "source": [
    "def calculate_acc(pred, y_test):\n",
    "    '''calculate accuracy for each class'''\n",
    "    count=[[0]*3 for _ in range(3)]\n",
    "    classes=['Uninfested', 'Low', 'High']\n",
    "    for i in range(len(pred)):\n",
    "        count[classes.index(y_test[i])][classes.index(pred[i])]+=1\n",
    "    count_cls=[sum(c) for c in count]\n",
    "    acc=[[count[i][j]/count_cls[i] for j in range(3)] for i in range(3)]\n",
    "    print(('Testing accuracy for all classes:',(count[0][0]+count[1][1]+count[2][2])/sum(count_cls)))\n",
    "    print(('Testing accuracy for uninfested class:',acc[0][0]))\n",
    "    print(('Testing accuracy for low infested class:',acc[1][1]))\n",
    "    print(('Testing accuracy for high infested class:',acc[2][2]))\n",
    "    return count, acc\n",
    "\n",
    "def his_freq(count, acc, merge=True):\n",
    "    '''plot empirical frequency histogram for each class'''\n",
    "    classes=['Uninfested', 'Low', 'High']\n",
    "    barWidth = 0.25\n",
    "    fig = plt.subplots(figsize =(9, 6))\n",
    "    br1 = np.arange(3)\n",
    "    br2 = [x + barWidth for x in br1]\n",
    "    br3 = [x + barWidth for x in br2]\n",
    "    plt.bar(br1, count[0], color ='r', width = barWidth,\n",
    "            edgecolor ='grey', label ='Uninfested')\n",
    "    plt.bar(br2, count[1], color ='g', width = barWidth,\n",
    "            edgecolor ='grey', label ='Low')\n",
    "    plt.bar(br3, count[2], color ='b', width = barWidth,\n",
    "            edgecolor ='grey', label ='High')\n",
    "    plt.xlabel('Predicted infest level', fontweight ='bold', fontsize = 15)\n",
    "    plt.ylabel('Count of predicted infest level', fontweight ='bold', fontsize = 15)\n",
    "    plt.xticks([r + barWidth for r in range(3)],classes)\n",
    "    plt.gca().set(title='Count of Predicted Class for Different Infest Levels');\n",
    "    plt.legend()\n",
    "    plt.show()"
   ]
  },
  {
   "cell_type": "code",
   "execution_count": 10,
   "metadata": {},
   "outputs": [],
   "source": [
    "def rf_fea_importance(rf, fea):\n",
    "    '''get feature importance from a fitted rf model, plot and save importance histogram'''\n",
    "    imp = list(rf.feature_importances_)\n",
    "    fea_im = [(feature, importance) for feature, importance in zip(fea[1:], imp)]\n",
    "    fea_im = sorted(fea_im, key=lambda x:x[1], reverse=True)[0:30]\n",
    "    xx = list(range(len(fea_im)))\n",
    "    plt.bar(xx, np.array(fea_im)[:,1], orientation='vertical')\n",
    "    plt.xticks(xx, np.array(fea_im)[:,0], rotation='vertical')\n",
    "    plt.ylabel('Importance of feature')\n",
    "    plt.savefig('Feature_importance.png', bbox_inches='tight', pad_inches=0.15)\n"
   ]
  },
  {
   "cell_type": "code",
   "execution_count": 11,
   "metadata": {},
   "outputs": [],
   "source": [
    "def rfe(fea, X_train, y_train, step=10, n_features_to_select=30,prt=True):\n",
    "    '''Recursive Feature Elimination'''\n",
    "    rfe_selector = RFE(estimator=RandomForestClassifier(), step=step, verbose=0, \n",
    "                       n_features_to_select=n_features_to_select)\n",
    "    rfe_selector.fit(X_train, y_train)\n",
    "    rfe_support = rfe_selector.get_support()\n",
    "    rfe_feature = [fea[i+1] for i in range(len(rfe_support)) if rfe_support[i]==True]\n",
    "    if prt==True:\n",
    "        print(str(len(rfe_feature)), 'selected features')\n",
    "        print('Selected Features:', rfe_feature)\n",
    "    return rfe_feature"
   ]
  },
  {
   "cell_type": "code",
   "execution_count": 12,
   "metadata": {},
   "outputs": [],
   "source": [
    "def count_rfe_freq(dat_norm, prt=True):\n",
    "    freq = defaultdict(lambda:0)\n",
    "    for i in tqdm(range(N_RFE)):\n",
    "        X_train, y_train, X_test, y_test, fea = split(dat_norm)\n",
    "        feat = rfe(fea, X_train, y_train, step=10, n_features_to_select=N_FEATURE, prt=False)\n",
    "        for f in feat:\n",
    "            freq[f]+=1\n",
    "    fea_sort = [(k,v) for k, v in sorted(freq.items(), key=lambda item: item[1])][::-1]\n",
    "    if prt:\n",
    "        print(fea_sort)\n",
    "    return fea_sort\n",
    "\n",
    "def plot_fea(fea_sort, cutoff=50):\n",
    "    fig = plt.figure(figsize = (10, 5))\n",
    "    fea_sort=[i for i in fea_sort if i[1]>=cutoff]\n",
    "    x_tick=[i[0] for i in fea_sort]\n",
    "    x=[i+1 for i in range(len(fea_sort))]\n",
    "    y=[i[1] for i in fea_sort]\n",
    "    plt.bar(x, y, color ='maroon',\n",
    "            width = 0.4)\n",
    "    plt.xlabel(\"Feature Index\")\n",
    "    plt.ylabel(\"Frequency\")\n",
    "    plt.xticks(x,x_tick)\n",
    "    #plt.title(\"Students enrolled in different courses\")\n",
    "    plt.show()\n",
    "    "
   ]
  },
  {
   "cell_type": "markdown",
   "metadata": {},
   "source": [
    "# Load Data"
   ]
  },
  {
   "cell_type": "code",
   "execution_count": 13,
   "metadata": {},
   "outputs": [
    {
     "data": {
      "text/html": [
       "<div>\n",
       "<style scoped>\n",
       "    .dataframe tbody tr th:only-of-type {\n",
       "        vertical-align: middle;\n",
       "    }\n",
       "\n",
       "    .dataframe tbody tr th {\n",
       "        vertical-align: top;\n",
       "    }\n",
       "\n",
       "    .dataframe thead th {\n",
       "        text-align: right;\n",
       "    }\n",
       "</style>\n",
       "<table border=\"1\" class=\"dataframe\">\n",
       "  <thead>\n",
       "    <tr style=\"text-align: right;\">\n",
       "      <th></th>\n",
       "      <th>family</th>\n",
       "      <th>year</th>\n",
       "      <th>infest_level</th>\n",
       "      <th>1</th>\n",
       "      <th>2</th>\n",
       "      <th>3</th>\n",
       "      <th>4</th>\n",
       "      <th>5</th>\n",
       "      <th>6</th>\n",
       "      <th>7</th>\n",
       "      <th>...</th>\n",
       "      <th>303</th>\n",
       "      <th>304</th>\n",
       "      <th>305</th>\n",
       "      <th>306</th>\n",
       "      <th>307</th>\n",
       "      <th>308</th>\n",
       "      <th>309</th>\n",
       "      <th>310</th>\n",
       "      <th>311</th>\n",
       "      <th>312</th>\n",
       "    </tr>\n",
       "  </thead>\n",
       "  <tbody>\n",
       "    <tr>\n",
       "      <th>1</th>\n",
       "      <td>C</td>\n",
       "      <td>2018</td>\n",
       "      <td>Uninfested</td>\n",
       "      <td>190.750245</td>\n",
       "      <td>472.180854</td>\n",
       "      <td>1547.148264</td>\n",
       "      <td>189.768413</td>\n",
       "      <td>38.256485</td>\n",
       "      <td>458.590228</td>\n",
       "      <td>13.277872</td>\n",
       "      <td>...</td>\n",
       "      <td>32.884819</td>\n",
       "      <td>0.0</td>\n",
       "      <td>0.0</td>\n",
       "      <td>0.0</td>\n",
       "      <td>0.0</td>\n",
       "      <td>0.0</td>\n",
       "      <td>71.465623</td>\n",
       "      <td>642.141079</td>\n",
       "      <td>74.998289</td>\n",
       "      <td>4271.14392</td>\n",
       "    </tr>\n",
       "    <tr>\n",
       "      <th>2</th>\n",
       "      <td>C</td>\n",
       "      <td>2018</td>\n",
       "      <td>Uninfested</td>\n",
       "      <td>205.092233</td>\n",
       "      <td>480.025856</td>\n",
       "      <td>1699.110781</td>\n",
       "      <td>166.762426</td>\n",
       "      <td>35.57719</td>\n",
       "      <td>428.683692</td>\n",
       "      <td>3.300284</td>\n",
       "      <td>...</td>\n",
       "      <td>87.580423</td>\n",
       "      <td>0.0</td>\n",
       "      <td>33.014736</td>\n",
       "      <td>122.427017</td>\n",
       "      <td>0.0</td>\n",
       "      <td>2.861174</td>\n",
       "      <td>211.122339</td>\n",
       "      <td>1246.689643</td>\n",
       "      <td>1.074715</td>\n",
       "      <td>10315.04749</td>\n",
       "    </tr>\n",
       "    <tr>\n",
       "      <th>3</th>\n",
       "      <td>C</td>\n",
       "      <td>2018</td>\n",
       "      <td>Uninfested</td>\n",
       "      <td>198.488664</td>\n",
       "      <td>364.734072</td>\n",
       "      <td>1208.282758</td>\n",
       "      <td>171.56697</td>\n",
       "      <td>42.906023</td>\n",
       "      <td>513.067172</td>\n",
       "      <td>15.240847</td>\n",
       "      <td>...</td>\n",
       "      <td>54.847208</td>\n",
       "      <td>0.0</td>\n",
       "      <td>0.0</td>\n",
       "      <td>71.927338</td>\n",
       "      <td>0.0</td>\n",
       "      <td>0.0</td>\n",
       "      <td>102.50883</td>\n",
       "      <td>784.492006</td>\n",
       "      <td>78.80647</td>\n",
       "      <td>6222.634886</td>\n",
       "    </tr>\n",
       "    <tr>\n",
       "      <th>4</th>\n",
       "      <td>C</td>\n",
       "      <td>2018</td>\n",
       "      <td>Uninfested</td>\n",
       "      <td>205.282883</td>\n",
       "      <td>723.263773</td>\n",
       "      <td>2045.086061</td>\n",
       "      <td>141.431346</td>\n",
       "      <td>27.370308</td>\n",
       "      <td>314.364792</td>\n",
       "      <td>7.610335</td>\n",
       "      <td>...</td>\n",
       "      <td>27.222003</td>\n",
       "      <td>0.0</td>\n",
       "      <td>6.104755</td>\n",
       "      <td>106.002083</td>\n",
       "      <td>1.940932</td>\n",
       "      <td>2.785245</td>\n",
       "      <td>182.506375</td>\n",
       "      <td>1219.676237</td>\n",
       "      <td>90.302976</td>\n",
       "      <td>9054.190361</td>\n",
       "    </tr>\n",
       "    <tr>\n",
       "      <th>5</th>\n",
       "      <td>C</td>\n",
       "      <td>2018</td>\n",
       "      <td>Uninfested</td>\n",
       "      <td>194.405033</td>\n",
       "      <td>267.565488</td>\n",
       "      <td>1710.778834</td>\n",
       "      <td>272.759061</td>\n",
       "      <td>69.83358</td>\n",
       "      <td>740.539732</td>\n",
       "      <td>18.367785</td>\n",
       "      <td>...</td>\n",
       "      <td>81.73244</td>\n",
       "      <td>0.0</td>\n",
       "      <td>11.161716</td>\n",
       "      <td>71.998542</td>\n",
       "      <td>0.0</td>\n",
       "      <td>0.0</td>\n",
       "      <td>147.783101</td>\n",
       "      <td>1043.399963</td>\n",
       "      <td>11.845275</td>\n",
       "      <td>7922.380446</td>\n",
       "    </tr>\n",
       "  </tbody>\n",
       "</table>\n",
       "<p>5 rows × 315 columns</p>\n",
       "</div>"
      ],
      "text/plain": [
       "  family  year infest_level           1           2            3           4  \\\n",
       "1      C  2018   Uninfested  190.750245  472.180854  1547.148264  189.768413   \n",
       "2      C  2018   Uninfested  205.092233  480.025856  1699.110781  166.762426   \n",
       "3      C  2018   Uninfested  198.488664  364.734072  1208.282758   171.56697   \n",
       "4      C  2018   Uninfested  205.282883  723.263773  2045.086061  141.431346   \n",
       "5      C  2018   Uninfested  194.405033  267.565488  1710.778834  272.759061   \n",
       "\n",
       "           5           6          7  ...        303  304        305  \\\n",
       "1  38.256485  458.590228  13.277872  ...  32.884819  0.0        0.0   \n",
       "2   35.57719  428.683692   3.300284  ...  87.580423  0.0  33.014736   \n",
       "3  42.906023  513.067172  15.240847  ...  54.847208  0.0        0.0   \n",
       "4  27.370308  314.364792   7.610335  ...  27.222003  0.0   6.104755   \n",
       "5   69.83358  740.539732  18.367785  ...   81.73244  0.0  11.161716   \n",
       "\n",
       "          306       307       308         309          310        311  \\\n",
       "1         0.0       0.0       0.0   71.465623   642.141079  74.998289   \n",
       "2  122.427017       0.0  2.861174  211.122339  1246.689643   1.074715   \n",
       "3   71.927338       0.0       0.0   102.50883   784.492006   78.80647   \n",
       "4  106.002083  1.940932  2.785245  182.506375  1219.676237  90.302976   \n",
       "5   71.998542       0.0       0.0  147.783101  1043.399963  11.845275   \n",
       "\n",
       "           312  \n",
       "1   4271.14392  \n",
       "2  10315.04749  \n",
       "3  6222.634886  \n",
       "4  9054.190361  \n",
       "5  7922.380446  \n",
       "\n",
       "[5 rows x 315 columns]"
      ]
     },
     "execution_count": 13,
     "metadata": {},
     "output_type": "execute_result"
    }
   ],
   "source": [
    "# Dataset is already loaded below\n",
    "os.chdir('D:\\\\Career\\\\\\DS-ML\\\\ash_tree\\\\')\n",
    "df = pd.read_csv(\"Compounds_for_Tian.csv\")\n",
    "dat=df.iloc[:,9:204].drop(3).reset_index().transpose().iloc[1:,:]\n",
    "dat.iloc[:,3:]=dat.iloc[:,3:].astype(float)\n",
    "smy=df.iloc[3:,0:9]\n",
    "names=['family','year','infest_level']+[i+1 for i in range(312)]\n",
    "dat.columns = names\n",
    "(dat.head())"
   ]
  },
  {
   "cell_type": "markdown",
   "metadata": {},
   "source": [
    "# Random Forest Fitting with All Classes"
   ]
  },
  {
   "cell_type": "code",
   "execution_count": 14,
   "metadata": {},
   "outputs": [
    {
     "name": "stdout",
     "output_type": "stream",
     "text": [
      "('Number of duplications:', 0)\n",
      "('Number of missing entries:', 0)\n"
     ]
    }
   ],
   "source": [
    "check_dup_missing(dat)\n",
    "dat_norm = norm(dat,NORMALIZE)\n",
    "dat_norm = pd.get_dummies(dat_norm, columns=['family','year'])\n",
    "X_train, y_train, X_test, y_test, fea = split(dat_norm)\n",
    "#f=select_uncorr_fea(X_train, fea)\n",
    "#fea=[fea[i] for i in f]"
   ]
  },
  {
   "cell_type": "code",
   "execution_count": 15,
   "metadata": {},
   "outputs": [
    {
     "name": "stdout",
     "output_type": "stream",
     "text": [
      "Best number of trees: 50 Best maximum depth: 10\n",
      "('Validation accuracy:', 0.5782312925170068)\n"
     ]
    }
   ],
   "source": [
    "best_n_est, best_depth = rf_cv(X_train, y_train, folds=147)"
   ]
  },
  {
   "cell_type": "code",
   "execution_count": 16,
   "metadata": {},
   "outputs": [
    {
     "name": "stdout",
     "output_type": "stream",
     "text": [
      "('Testing accuracy for all classes:', 0.6216216216216216)\n",
      "('Testing accuracy for uninfested class:', 0.5)\n",
      "('Testing accuracy for low infested class:', 0.7272727272727273)\n",
      "('Testing accuracy for high infested class:', 0.4)\n"
     ]
    },
    {
     "data": {
      "image/png": "[encoded data removed]",
      "text/plain": [
       "<Figure size 648x432 with 1 Axes>"
      ]
     },
     "metadata": {
      "needs_background": "light"
     },
     "output_type": "display_data"
    }
   ],
   "source": [
    "prob, pred = rf(X_train, y_train, X_test, y_test, best_n_est=best_n_est, best_depth=best_depth)\n",
    "count, acc = calculate_acc(pred, y_test)\n",
    "his_freq(count, acc)"
   ]
  },
  {
   "cell_type": "code",
   "execution_count": 17,
   "metadata": {},
   "outputs": [
    {
     "name": "stdout",
     "output_type": "stream",
     "text": [
      "30 selected features\n",
      "Selected Features: [1, 2, 5, 8, 10, 11, 25, 27, 41, 43, 53, 88, 106, 121, 149, 150, 161, 166, 182, 183, 209, 211, 213, 226, 255, 259, 261, 296, 297, 303]\n"
     ]
    }
   ],
   "source": [
    "rfe_feature = rfe(fea, X_train, y_train, step=10, n_features_to_select=30)"
   ]
  },
  {
   "cell_type": "code",
   "execution_count": 18,
   "metadata": {},
   "outputs": [
    {
     "name": "stderr",
     "output_type": "stream",
     "text": [
      "100%|████████████████████████████████████████████████████████████████████████████████| 100/100 [19:04<00:00, 11.51s/it]\n"
     ]
    },
    {
     "name": "stdout",
     "output_type": "stream",
     "text": [
      "[(96, 100), (41, 100), (2, 100), (11, 97), (259, 96), (150, 95), (10, 92), (182, 90), (149, 89), (183, 85), (27, 84), (53, 82), (303, 76), (121, 74), (296, 71), (166, 66), (261, 65), (283, 65), (1, 64), (280, 61), (242, 61), (226, 61), (43, 59), (211, 54), (40, 47), (8, 44), (282, 42), (125, 42), (312, 41), (310, 41), (25, 37), (14, 36), (106, 34), (144, 32), (300, 31), (255, 31), (15, 29), (86, 28), (209, 28), (88, 27), (68, 24), (162, 24), (153, 23), (84, 22), (268, 22), (152, 21), (5, 21), (257, 20), (44, 20), (137, 19), (82, 17), (179, 16), (113, 15), (161, 15), (294, 15), (141, 14), (81, 14), (123, 13), (107, 13), (98, 11), (115, 11), (214, 11), (42, 10), (6, 10), (213, 9), (146, 9), (45, 8), (256, 8), (52, 5), (30, 5), (108, 5), (55, 5), (32, 4), (260, 4), (49, 4), (124, 4), (33, 4), (23, 4), (51, 4), (129, 3), (37, 3), (297, 3), (193, 3), (272, 3), (119, 3), (36, 3), (277, 3), (17, 3), (216, 2), (63, 2), (246, 2), (4, 2), (39, 1), (167, 1), (217, 1), (286, 1), (239, 1), (20, 1), (47, 1), (215, 1), (157, 1), (140, 1), (309, 1), (38, 1), (102, 1), (302, 1), (173, 1), (72, 1), (232, 1), (204, 1), (269, 1), (77, 1), (189, 1), (258, 1), (35, 1), (270, 1), (158, 1)]\n"
     ]
    },
    {
     "data": {
      "image/png": "[encoded data removed]",
      "text/plain": [
       "<Figure size 720x360 with 1 Axes>"
      ]
     },
     "metadata": {
      "needs_background": "light"
     },
     "output_type": "display_data"
    }
   ],
   "source": [
    "fea_sort = count_rfe_freq(dat_norm)\n",
    "plot_fea(fea_sort)"
   ]
  },
  {
   "cell_type": "markdown",
   "metadata": {},
   "source": [
    "# Regression for Y class"
   ]
  },
  {
   "cell_type": "code",
   "execution_count": 19,
   "metadata": {},
   "outputs": [
    {
     "name": "stdout",
     "output_type": "stream",
     "text": [
      "('Number of duplications:', 0)\n",
      "('Number of missing entries:', 0)\n"
     ]
    }
   ],
   "source": [
    "check_dup_missing(dat)\n",
    "dat_Y = norm(dat,NORMALIZE)\n",
    "dat_Y=dat_Y.loc[dat_Y.family=='Y'].drop('family', axis=1)\n",
    "dat_Y = pd.get_dummies(dat_Y, columns=['year'])\n",
    "X_train_Y, y_train_Y, X_test_Y, y_test_Y, fea_Y = split(dat_Y)"
   ]
  },
  {
   "cell_type": "code",
   "execution_count": 20,
   "metadata": {},
   "outputs": [
    {
     "name": "stdout",
     "output_type": "stream",
     "text": [
      "Best number of trees: 100 Best maximum depth: 10\n",
      "('Validation accuracy:', 0.55)\n"
     ]
    }
   ],
   "source": [
    "best_n_est_Y, best_depth_Y = rf_cv(X_train_Y, y_train_Y, folds=60)"
   ]
  },
  {
   "cell_type": "code",
   "execution_count": 21,
   "metadata": {},
   "outputs": [
    {
     "name": "stdout",
     "output_type": "stream",
     "text": [
      "('Testing accuracy for all classes:', 0.4)\n",
      "('Testing accuracy for uninfested class:', 0.6)\n",
      "('Testing accuracy for low infested class:', 0.25)\n",
      "('Testing accuracy for high infested class:', 0.3333333333333333)\n"
     ]
    },
    {
     "data": {
      "image/png": "[encoded data removed]",
      "text/plain": [
       "<Figure size 648x432 with 1 Axes>"
      ]
     },
     "metadata": {
      "needs_background": "light"
     },
     "output_type": "display_data"
    }
   ],
   "source": [
    "prob_Y, pred_Y = rf(X_train_Y, y_train_Y, X_test_Y, y_test_Y, best_n_est=best_n_est_Y, best_depth=best_depth_Y)\n",
    "count_Y, acc_Y = calculate_acc(pred_Y, y_test_Y)\n",
    "his_freq(count_Y, acc_Y)"
   ]
  },
  {
   "cell_type": "code",
   "execution_count": 22,
   "metadata": {},
   "outputs": [
    {
     "name": "stdout",
     "output_type": "stream",
     "text": [
      "30 selected features\n",
      "Selected Features: [2, 5, 8, 9, 10, 11, 14, 15, 23, 27, 36, 37, 40, 41, 43, 53, 67, 81, 82, 86, 96, 125, 137, 138, 149, 153, 183, 193, 218, 259]\n"
     ]
    }
   ],
   "source": [
    "rfe_feature_Y = rfe(fea_Y, X_train_Y, y_train_Y, step=10, n_features_to_select=30)"
   ]
  },
  {
   "cell_type": "code",
   "execution_count": 23,
   "metadata": {},
   "outputs": [
    {
     "name": "stderr",
     "output_type": "stream",
     "text": [
      "100%|████████████████████████████████████████████████████████████████████████████████| 100/100 [16:23<00:00, 12.69s/it]\n"
     ]
    },
    {
     "name": "stdout",
     "output_type": "stream",
     "text": [
      "[(2, 100), (259, 99), (11, 92), (149, 85), (15, 81), (53, 80), (150, 78), (125, 73), (153, 72), (41, 72), (137, 71), (183, 70), (40, 66), (280, 63), (296, 60), (152, 59), (182, 58), (14, 56), (10, 52), (282, 49), (166, 49), (43, 49), (27, 48), (82, 47), (8, 46), (86, 46), (213, 44), (121, 43), (33, 41), (300, 40), (211, 40), (189, 39), (294, 39), (5, 39), (303, 36), (174, 35), (144, 34), (36, 34), (310, 33), (96, 33), (39, 31), (3, 30), (25, 27), (6, 26), (37, 24), (269, 23), (138, 23), (81, 22), (133, 21), (67, 21), (84, 20), (214, 17), (242, 17), (261, 15), (226, 15), (112, 14), (146, 14), (76, 14), (32, 13), (187, 13), (83, 12), (44, 12), (286, 12), (42, 11), (135, 11), (193, 10), (85, 10), (277, 10), (23, 10), (68, 10), (215, 9), (173, 9), (175, 9), (4, 9), (290, 8), (190, 8), (219, 8), (115, 7), (255, 7), (209, 7), (80, 7), (312, 6), (270, 6), (239, 6), (283, 5), (297, 5), (89, 5), (217, 5), (128, 5), (179, 5), (113, 4), (256, 4), (1, 4), (288, 4), (233, 4), (250, 4), (124, 4), (99, 4), (234, 4), (38, 3), (229, 3), (232, 2), (63, 2), (291, 2), (309, 2), (158, 2), (21, 2), (90, 2), (88, 2), (103, 2), (100, 2), (77, 2), (141, 2), (178, 2), (162, 2), (30, 2), (274, 2), (7, 2), (301, 2), (246, 1), (160, 1), (167, 1), (131, 1), (106, 1), (9, 1), (134, 1), (140, 1), (161, 1), (52, 1), (308, 1), (123, 1), (258, 1), (62, 1), (64, 1), (279, 1), (75, 1), (285, 1), (272, 1), (45, 1), (49, 1), (20, 1), (276, 1), (26, 1), (13, 1), (203, 1), (18, 1)]\n"
     ]
    },
    {
     "data": {
      "image/png": "[encoded data removed]",
      "text/plain": [
       "<Figure size 720x360 with 1 Axes>"
      ]
     },
     "metadata": {
      "needs_background": "light"
     },
     "output_type": "display_data"
    }
   ],
   "source": [
    "fea_sort_Y = count_rfe_freq(dat_Y)\n",
    "plot_fea(fea_sort_Y)"
   ]
  },
  {
   "cell_type": "markdown",
   "metadata": {},
   "source": [
    "# Regression on Z class"
   ]
  },
  {
   "cell_type": "code",
   "execution_count": 24,
   "metadata": {},
   "outputs": [
    {
     "name": "stdout",
     "output_type": "stream",
     "text": [
      "('Number of duplications:', 0)\n",
      "('Number of missing entries:', 0)\n"
     ]
    }
   ],
   "source": [
    "check_dup_missing(dat)\n",
    "dat_Z = norm(dat,NORMALIZE)\n",
    "dat_Z=dat_Z.loc[dat_Z.family=='Z'].drop('family', axis=1)\n",
    "dat_Z = pd.get_dummies(dat_Z, columns=['year'])\n",
    "X_train_Z, y_train_Z, X_test_Z, y_test_Z, fea_Z = split(dat_Z)"
   ]
  },
  {
   "cell_type": "code",
   "execution_count": 25,
   "metadata": {},
   "outputs": [
    {
     "name": "stdout",
     "output_type": "stream",
     "text": [
      "Best number of trees: 20 Best maximum depth: 10\n",
      "('Validation accuracy:', 0.5849056603773585)\n"
     ]
    }
   ],
   "source": [
    "best_n_est_Z, best_depth_Z = rf_cv(X_train_Z, y_train_Z, folds=53)"
   ]
  },
  {
   "cell_type": "code",
   "execution_count": 26,
   "metadata": {},
   "outputs": [
    {
     "name": "stdout",
     "output_type": "stream",
     "text": [
      "('Testing accuracy for all classes:', 0.5)\n",
      "('Testing accuracy for uninfested class:', 0.0)\n",
      "('Testing accuracy for low infested class:', 0.6)\n",
      "('Testing accuracy for high infested class:', 0.3333333333333333)\n"
     ]
    },
    {
     "data": {
      "image/png": "[encoded data removed]",
      "text/plain": [
       "<Figure size 648x432 with 1 Axes>"
      ]
     },
     "metadata": {
      "needs_background": "light"
     },
     "output_type": "display_data"
    }
   ],
   "source": [
    "prob_Z, pred_Z = rf(X_train_Z, y_train_Z, X_test_Z, y_test_Z, best_n_est=best_n_est_Z, best_depth=best_depth_Z)\n",
    "count_Z, acc_Z = calculate_acc(pred_Z, y_test_Z)\n",
    "his_freq(count_Z, acc_Z)"
   ]
  },
  {
   "cell_type": "code",
   "execution_count": 27,
   "metadata": {},
   "outputs": [
    {
     "name": "stdout",
     "output_type": "stream",
     "text": [
      "30 selected features\n",
      "Selected Features: [1, 2, 8, 10, 11, 27, 40, 41, 42, 45, 49, 51, 55, 81, 90, 96, 98, 107, 108, 113, 123, 141, 150, 179, 180, 226, 259, 283, 303, 305]\n"
     ]
    }
   ],
   "source": [
    "rfe_feature_Z = rfe(fea_Z, X_train_Z, y_train_Z, step=10, n_features_to_select=30)"
   ]
  },
  {
   "cell_type": "code",
   "execution_count": 28,
   "metadata": {},
   "outputs": [
    {
     "name": "stderr",
     "output_type": "stream",
     "text": [
      "100%|████████████████████████████████████████████████████████████████████████████████| 100/100 [22:27<00:00, 11.51s/it]\n"
     ]
    },
    {
     "name": "stdout",
     "output_type": "stream",
     "text": [
      "[(96, 100), (10, 100), (283, 99), (11, 98), (2, 97), (41, 94), (123, 86), (51, 83), (107, 76), (310, 70), (303, 65), (27, 63), (276, 61), (108, 61), (113, 54), (120, 53), (259, 49), (149, 49), (98, 49), (257, 48), (226, 48), (246, 45), (40, 45), (93, 42), (55, 42), (305, 40), (88, 39), (312, 38), (49, 38), (141, 37), (183, 37), (106, 36), (238, 35), (256, 34), (182, 33), (233, 31), (81, 30), (9, 29), (14, 28), (24, 26), (45, 25), (5, 25), (44, 24), (119, 24), (270, 23), (109, 22), (179, 22), (133, 21), (150, 19), (90, 19), (16, 19), (161, 18), (62, 18), (82, 18), (242, 17), (209, 17), (53, 16), (300, 16), (68, 16), (94, 15), (89, 14), (42, 13), (309, 12), (86, 12), (203, 12), (272, 11), (274, 11), (279, 11), (219, 11), (84, 11), (135, 11), (144, 10), (255, 10), (35, 10), (43, 10), (134, 9), (77, 9), (6, 9), (159, 8), (8, 8), (38, 8), (37, 7), (30, 7), (269, 7), (103, 7), (140, 6), (70, 6), (162, 6), (230, 6), (180, 6), (285, 6), (111, 6), (115, 6), (1, 5), (220, 5), (22, 5), (216, 5), (102, 5), (280, 4), (277, 4), (156, 4), (7, 4), (39, 4), (169, 3), (25, 3), (240, 3), (167, 3), (33, 3), (213, 3), (239, 3), (83, 3), (125, 3), (170, 3), (254, 2), (258, 2), (308, 2), (260, 2), (131, 2), (297, 2), (23, 2), (296, 2), (171, 2), (166, 2), (302, 2), (12, 1), (289, 1), (46, 1), (211, 1), (101, 1), (191, 1), (158, 1), (20, 1), (54, 1), (307, 1), (249, 1), (64, 1), (281, 1), (100, 1), (248, 1), (214, 1), (18, 1), (72, 1), (47, 1), (288, 1), (52, 1), (206, 1), (261, 1), (99, 1), (311, 1)]\n"
     ]
    },
    {
     "data": {
      "image/png": "[encoded data removed]",
      "text/plain": [
       "<Figure size 720x360 with 1 Axes>"
      ]
     },
     "metadata": {
      "needs_background": "light"
     },
     "output_type": "display_data"
    }
   ],
   "source": [
    "fea_sort_Z = count_rfe_freq(dat_Z)\n",
    "plot_fea(fea_sort_Z)"
   ]
  },
  {
   "cell_type": "markdown",
   "metadata": {},
   "source": [
    "# Draft (Do not run)"
   ]
  },
  {
   "cell_type": "code",
   "execution_count": 27,
   "metadata": {},
   "outputs": [
    {
     "name": "stdout",
     "output_type": "stream",
     "text": [
      "Percent of overlap features: 0.23333333333333334\n",
      "Percent of overlap features: 0.3\n",
      "Percent of overlap features: 0.5333333333333333\n"
     ]
    }
   ],
   "source": [
    "ct=0\n",
    "for i in rfe_feature_Y:\n",
    "    if i in rfe_feature_Z:\n",
    "        ct+=1\n",
    "print('Percent of overlap features:',ct/len(rfe_feature_Y))\n",
    "\n",
    "ct=0\n",
    "for i in rfe_feature:\n",
    "    if i in rfe_feature_Z:\n",
    "        ct+=1\n",
    "print('Percent of overlap features:',ct/len(rfe_feature))\n",
    "\n",
    "ct=0\n",
    "for i in rfe_feature:\n",
    "    if i in rfe_feature_Y:\n",
    "        ct+=1\n",
    "print('Percent of overlap features:',ct/len(rfe_feature))"
   ]
  },
  {
   "cell_type": "raw",
   "metadata": {},
   "source": [
    "[1, 2, 10, 11, 14, 15, 25, 41, 42, 43, 53, 96, 121, 125, 129, 149, 150, 162, 182, 183, 211, 226, 242, 259, 280, 283, 296, 300, 303, 312]\n",
    "\n",
    "Z:\n",
    "[2, 10, 11, 14, 27, 49, 51, 53, 55, 82, 96, 98, 102, 106, 107, 108, 109, 113, 119, 123, 149, 162, 183, 209, 259, 283, 303, 305, 310, 312]\n",
    "\n",
    "Y:\n",
    "[2, 3, 8, 11, 15, 25, 27, 33, 36, 53, 81, 82, 84, 86, 100, 125, 135, 137, 144, 149, 152, 153, 183, 250, 259, 280, 282, 288, 290, 294]"
   ]
  },
  {
   "cell_type": "raw",
   "metadata": {},
   "source": [
    "Selecting 160 features using RFE or Corr/VIF can achieve around 80% overlap features in two selection\n",
    "Selecting 30 can achieve 60% overlap\n",
    "Using RF Feature_importance have worse stableness than the other two, because of high correlation"
   ]
  },
  {
   "cell_type": "markdown",
   "metadata": {},
   "source": [
    "# Random Forest Feature Selection with Uncorrelated Variables"
   ]
  },
  {
   "cell_type": "markdown",
   "metadata": {},
   "source": [
    "Below is random forest using features that are selected by Corr and VIF. However, feature selection using both Corr/VIF and random forest is not better than using random forest alone. So feature selected by previous block is enough for explanation."
   ]
  },
  {
   "cell_type": "code",
   "execution_count": 13,
   "metadata": {},
   "outputs": [
    {
     "name": "stdout",
     "output_type": "stream",
     "text": [
      "Best number of trees: 100 Best maximum depth: 10\n",
      "('Validation accuracy:', 0.6394557823129252)\n"
     ]
    }
   ],
   "source": [
    "N_EST_CANDI=[20,50,100]\n",
    "DEPTH_CANDI=[10,20,30]\n",
    "best_acc=float('-inf')\n",
    "\n",
    "for n_est in N_EST_CANDI:\n",
    "    for depth in DEPTH_CANDI:\n",
    "        rf=RandomForestClassifier(n_estimators=n_est,max_depth=depth,criterion='gini',random_state=10)\n",
    "        cv=KFold(n_splits=147,shuffle=False)\n",
    "        res=np.mean(cross_val_score(rf,X_train[:,f],y_train,cv=cv,scoring='accuracy'))\n",
    "        if res>best_acc:\n",
    "            best_n_est=n_est\n",
    "            best_depth=depth\n",
    "            best_acc=res\n",
    "print('Best number of trees:',best_n_est,'Best maximum depth:',best_depth)\n",
    "print(('Validation accuracy:',best_acc))"
   ]
  },
  {
   "cell_type": "code",
   "execution_count": 14,
   "metadata": {},
   "outputs": [
    {
     "name": "stdout",
     "output_type": "stream",
     "text": [
      "('Testing accuracy:', 0.5675675675675675)\n"
     ]
    }
   ],
   "source": [
    "#After make sure the model is good, we preceed to do training and prediction\n",
    "rf=RandomForestClassifier(n_estimators=200,max_depth=best_depth,criterion='gini',random_state=10)\n",
    "rf.fit(X_train[:,f],y_train)\n",
    "pred=rf.predict(X_test[:,f])\n",
    "prob=rf.predict_proba(X_test[:,f])\n",
    "acc=[pred[i]==y_test[i] for i in range(len(pred))]\n",
    "print(('Testing accuracy:',metrics.accuracy_score(y_test, pred)))"
   ]
  },
  {
   "cell_type": "code",
   "execution_count": 15,
   "metadata": {},
   "outputs": [
    {
     "data": {
      "image/png": "[encoded data removed]",
      "text/plain": [
       "<Figure size 432x288 with 1 Axes>"
      ]
     },
     "metadata": {
      "needs_background": "light"
     },
     "output_type": "display_data"
    }
   ],
   "source": [
    "#this is the feature importance\n",
    "imp=list(rf.feature_importances_)\n",
    "fea_im=[(feature, importance) for feature, importance in zip(fea[1:],imp)]\n",
    "fea_im=sorted(fea_im,key=lambda x:x[1],reverse=True)[0:30]\n",
    "#print(list(fea_im[0:20]))\n",
    "\n",
    "xx=list(range(len(fea_im)))\n",
    "#fea_im.reverse()\\\n",
    "\n",
    "plt.bar(xx,np.array(fea_im)[:,1],orientation='vertical')\n",
    "plt.xticks(xx,np.array(fea_im)[:,0],rotation='vertical')\n",
    "plt.ylabel('Importance of feature')\n",
    "\n",
    "plt.savefig('Feature_importance.png',bbox_inches='tight',pad_inches=0.15)"
   ]
  },
  {
   "cell_type": "code",
   "execution_count": 16,
   "metadata": {},
   "outputs": [
    {
     "name": "stdout",
     "output_type": "stream",
     "text": [
      "Fitting estimator with 318 features.\n",
      "Fitting estimator with 308 features.\n",
      "Fitting estimator with 298 features.\n",
      "Fitting estimator with 288 features.\n",
      "Fitting estimator with 278 features.\n",
      "Fitting estimator with 268 features.\n",
      "Fitting estimator with 258 features.\n",
      "Fitting estimator with 248 features.\n",
      "Fitting estimator with 238 features.\n",
      "Fitting estimator with 228 features.\n",
      "Fitting estimator with 218 features.\n",
      "Fitting estimator with 208 features.\n",
      "Fitting estimator with 198 features.\n",
      "Fitting estimator with 188 features.\n",
      "Fitting estimator with 178 features.\n",
      "Fitting estimator with 168 features.\n",
      "Fitting estimator with 158 features.\n",
      "Fitting estimator with 148 features.\n",
      "Fitting estimator with 138 features.\n",
      "Fitting estimator with 128 features.\n",
      "Fitting estimator with 118 features.\n",
      "Fitting estimator with 108 features.\n",
      "Fitting estimator with 98 features.\n",
      "Fitting estimator with 88 features.\n",
      "Fitting estimator with 78 features.\n",
      "Fitting estimator with 68 features.\n",
      "Fitting estimator with 58 features.\n",
      "Fitting estimator with 48 features.\n",
      "Fitting estimator with 38 features.\n",
      "30 selected features\n",
      "Selected Features: [1, 2, 10, 11, 14, 15, 25, 41, 42, 43, 53, 96, 121, 125, 129, 149, 150, 162, 182, 183, 211, 226, 242, 259, 280, 283, 296, 300, 303, 312]\n"
     ]
    }
   ],
   "source": [
    "#Recursive Feature Elimination\n",
    "rfe_selector = RFE(estimator=RandomForestClassifier(), step=10, verbose=5,n_features_to_select=30)\n",
    "rfe_selector.fit(X_train[:,list(f)], y_train)\n",
    "rfe_support = rfe_selector.get_support()\n",
    "rfe_feature = [fea[i+1] for i in range(len(rfe_support)) if rfe_support[i]==True]\n",
    "print(str(len(rfe_feature)), 'selected features')\n",
    "print('Selected Features:',rfe_feature)"
   ]
  },
  {
   "cell_type": "markdown",
   "metadata": {},
   "source": [
    "# LGBMClassifier"
   ]
  },
  {
   "cell_type": "code",
   "execution_count": null,
   "metadata": {},
   "outputs": [],
   "source": [
    "lgbc=LGBMClassifier(n_estimators=200, learning_rate=0.05, num_leaves=2, colsample_bytree=0.2,\n",
    "            reg_alpha=1, reg_lambda=1, min_split_gain=0.001, min_child_weight=4)\n",
    "cv=KFold(n_splits=147,shuffle=True,random_state=1)\n",
    "res=cross_val_score(lgbc,X_train,y_train,cv=cv,scoring='accuracy')\n",
    "print(('Validation accuracy:',np.mean(res)))"
   ]
  },
  {
   "cell_type": "code",
   "execution_count": null,
   "metadata": {},
   "outputs": [],
   "source": [
    "#After make sure the model is good, we preceed to do training and prediction\n",
    "lgbc.fit(X_train,y_train)\n",
    "pred=lgbc.predict(X_test)\n",
    "prob=lgbc.predict_proba(X_test)\n",
    "acc=[pred[i]==y_test[i] for i in range(len(pred))]\n",
    "print(('Testing accuracy:',metrics.accuracy_score(y_test, pred)))"
   ]
  },
  {
   "cell_type": "code",
   "execution_count": null,
   "metadata": {},
   "outputs": [],
   "source": [
    "#this is the feature importance\n",
    "imp=list(lgbc.feature_importances_)\n",
    "fea_im=[(feature, importance) for feature, importance in zip(fea[1:],imp)]\n",
    "fea_im=sorted(fea_im,key=lambda x:x[1],reverse=True)[0:20]\n",
    "#print(list(fea_im[0:20]))\n",
    "\n",
    "xx=list(range(len(fea_im)))\n",
    "#fea_im.reverse()\\\n",
    "\n",
    "\n",
    "plt.bar(xx,np.array(fea_im)[:,1],orientation='vertical')\n",
    "plt.xticks(xx,np.array(fea_im)[:,0],rotation='vertical')\n",
    "plt.ylabel('Importance of feature')\n",
    "\n",
    "plt.savefig('Feature_importance.png',bbox_inches='tight',pad_inches=0.15)"
   ]
  },
  {
   "cell_type": "code",
   "execution_count": null,
   "metadata": {},
   "outputs": [],
   "source": [
    "#Recursive Feature Elimination\n",
    "rfe_selector = RFE(estimator=LGBMClassifier(), n_features_to_select=20, step=10, verbose=5)\n",
    "rfe_selector.fit(X_train, y_train)\n",
    "rfe_support = rfe_selector.get_support()\n",
    "rfe_feature = [fea[i+1] for i in range(len(rfe_support)) if rfe_support[i]==True]\n",
    "print(str(len(rfe_feature)), 'selected features')\n",
    "print('Selected Features:',rfe_feature)"
   ]
  },
  {
   "cell_type": "code",
   "execution_count": null,
   "metadata": {},
   "outputs": [],
   "source": []
  },
  {
   "cell_type": "code",
   "execution_count": null,
   "metadata": {},
   "outputs": [],
   "source": []
  },
  {
   "cell_type": "code",
   "execution_count": null,
   "metadata": {},
   "outputs": [],
   "source": []
  },
  {
   "cell_type": "code",
   "execution_count": null,
   "metadata": {},
   "outputs": [],
   "source": []
  },
  {
   "cell_type": "code",
   "execution_count": null,
   "metadata": {},
   "outputs": [],
   "source": []
  },
  {
   "cell_type": "markdown",
   "metadata": {},
   "source": [
    "# XGBoost and Feature Selection"
   ]
  },
  {
   "cell_type": "code",
   "execution_count": null,
   "metadata": {},
   "outputs": [],
   "source": []
  },
  {
   "cell_type": "code",
   "execution_count": null,
   "metadata": {},
   "outputs": [],
   "source": []
  },
  {
   "cell_type": "code",
   "execution_count": null,
   "metadata": {},
   "outputs": [],
   "source": []
  },
  {
   "cell_type": "code",
   "execution_count": null,
   "metadata": {},
   "outputs": [],
   "source": []
  },
  {
   "cell_type": "markdown",
   "metadata": {},
   "source": [
    "# SVM"
   ]
  },
  {
   "cell_type": "code",
   "execution_count": null,
   "metadata": {},
   "outputs": [],
   "source": [
    "clf = svm.SVC(kernel='rbf') \n",
    "clf.fit(X_train, y_train)\n",
    "y_pred = clf.predict(X_test)\n",
    "\n",
    "print(\"Testing accuracy:\",metrics.accuracy_score(y_test, y_pred))"
   ]
  },
  {
   "cell_type": "code",
   "execution_count": null,
   "metadata": {},
   "outputs": [],
   "source": []
  }
 ],
 "metadata": {
  "kernelspec": {
   "display_name": "Python 3",
   "language": "python",
   "name": "python3"
  },
  "language_info": {
   "codemirror_mode": {
    "name": "ipython",
    "version": 3
   },
   "file_extension": ".py",
   "mimetype": "text/x-python",
   "name": "python",
   "nbconvert_exporter": "python",
   "pygments_lexer": "ipython3",
   "version": "3.7.9"
  }
 },
 "nbformat": 4,
 "nbformat_minor": 4
}
